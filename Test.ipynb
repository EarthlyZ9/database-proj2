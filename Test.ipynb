{
 "cells": [
  {
   "cell_type": "code",
   "execution_count": 1,
   "id": "c7789a14",
   "metadata": {},
   "outputs": [],
   "source": [
    "import psycopg\n",
    "from psycopg import sql\n",
    "from project2_2019123097 import *"
   ]
  },
  {
   "cell_type": "code",
   "execution_count": 2,
   "id": "04319255",
   "metadata": {},
   "outputs": [],
   "source": [
    "HOST = 'localhost'\n",
    "DBNAME = 'Project2'\n",
    "USER = 'postgres'\n",
    "PASSWORD = 'LJS2000!'"
   ]
  },
  {
   "cell_type": "code",
   "execution_count": 3,
   "id": "b73e5f24",
   "metadata": {},
   "outputs": [],
   "source": [
    "CONNECTION = f\"host={HOST} dbname={DBNAME} user={USER} password={PASSWORD}\""
   ]
  },
  {
   "cell_type": "code",
   "execution_count": 4,
   "id": "eff2318c",
   "metadata": {},
   "outputs": [
    {
     "name": "stdout",
     "output_type": "stream",
     "text": [
      "create_table.sql EXECUTRED!\n"
     ]
    }
   ],
   "source": [
    "# create table\n",
    "# change 'my_path' to your path where create_table.sql file exist \n",
    "path =  '../create_table.sql'\n",
    "\n",
    "execute_sql(CONNECTION, path)"
   ]
  },
  {
   "cell_type": "code",
   "execution_count": 5,
   "id": "507f101a",
   "metadata": {},
   "outputs": [
    {
     "name": "stdout",
     "output_type": "stream",
     "text": [
      "insert_data.sql EXECUTRED!\n"
     ]
    }
   ],
   "source": [
    "# insert_data\n",
    "# change 'my_path' to your path where insert_data.sql file exist \n",
    "path =  '../insert_data.sql'\n",
    "\n",
    "execute_sql(CONNECTION, path)"
   ]
  },
  {
   "cell_type": "code",
   "execution_count": 6,
   "id": "d6fece12",
   "metadata": {},
   "outputs": [
    {
     "name": "stdout",
     "output_type": "stream",
     "text": [
      "[(2017, 2021, 0, 'CSI', '2017111111', 'An Yujin'), (2018, 2022, 0, 'CSI', '2018111111', 'Kim Gaeul'), (2019, None, 4, 'CSI', '2019111111', 'Rei Naoi'), (2020, None, 3, 'CSI', '2020111111', 'Jang Wonyoung'), (2021, None, 2, 'CSI', '2021111111', 'Kim Jiwon'), (2022, None, 1, 'CSI', '2022111111', 'Lee Hyeonseo'), (2022, None, 1, 'CSI', '2022222222', 'Lee Eunji'), (2022, None, 1, 'CSI', '2022333333', 'Jo sujin'), (2022, None, 1, 'CSI', '2022444444', 'Rei Gayoung')]\n"
     ]
    }
   ],
   "source": [
    "table_name = 'students'\n",
    "entire_search(CONNECTION=CONNECTION, table_name=table_name)"
   ]
  },
  {
   "cell_type": "code",
   "execution_count": 7,
   "id": "fcab6ef4",
   "metadata": {},
   "outputs": [
    {
     "name": "stdout",
     "output_type": "stream",
     "text": [
      "[('An Yujin', '2017111111', 2017, 0, '컴퓨터과학', '공과대학', True)]\n"
     ]
    }
   ],
   "source": [
    "# search by student id\n",
    "student_id = '2017111111'\n",
    "search_by_studentID(CONNECTION=CONNECTION, student_id=student_id)"
   ]
  },
  {
   "cell_type": "code",
   "execution_count": 8,
   "id": "8e124e9b",
   "metadata": {},
   "outputs": [
    {
     "name": "stdout",
     "output_type": "stream",
     "text": [
      "[('An Yujin', '2017111111', 2017, 0, '컴퓨터과학', '공과대학', True)]\n"
     ]
    }
   ],
   "source": [
    "# search by student name\n",
    "student_name = 'An Yujin'\n",
    "search_by_studentname(CONNECTION, student_name)"
   ]
  },
  {
   "cell_type": "code",
   "execution_count": 9,
   "id": "fa91cef2",
   "metadata": {},
   "outputs": [
    {
     "name": "stdout",
     "output_type": "stream",
     "text": [
      "[('Kim Jiwon', '2021111111', 2021, 2, '컴퓨터과학', '공과대학', False), ('Kim Gaeul', '2018111111', 2018, 0, '컴퓨터과학', '공과대학', True)]\n"
     ]
    }
   ],
   "source": [
    "# search by student name with escape charator\n",
    "student_name = 'Kim%'\n",
    "search_by_studentname(CONNECTION, student_name)"
   ]
  },
  {
   "cell_type": "code",
   "execution_count": 10,
   "id": "4e9450b9",
   "metadata": {},
   "outputs": [
    {
     "name": "stdout",
     "output_type": "stream",
     "text": [
      "[('Jang Wonyoung', '2020111111', 2020, 3, '컴퓨터과학', '공과대학', False), ('Rei Gayoung', '2022444444', 2022, 1, '컴퓨터과학', '공과대학', False)]\n"
     ]
    }
   ],
   "source": [
    "student_name = '%young'\n",
    "search_by_studentname(CONNECTION, student_name)"
   ]
  },
  {
   "cell_type": "code",
   "execution_count": 11,
   "id": "ce5b78ea",
   "metadata": {},
   "outputs": [
    {
     "name": "stdout",
     "output_type": "stream",
     "text": [
      "[('Kim Gaeul', '2018111111', 2018, 0, '컴퓨터과학', '공과대학', True), ('Rei Gayoung', '2022444444', 2022, 1, '컴퓨터과학', '공과대학', False)]\n"
     ]
    }
   ],
   "source": [
    "student_name = '%Ga%'\n",
    "search_by_studentname(CONNECTION, student_name)"
   ]
  },
  {
   "cell_type": "code",
   "execution_count": 15,
   "id": "f7dec9e7",
   "metadata": {},
   "outputs": [
    {
     "name": "stdout",
     "output_type": "stream",
     "text": [
      "[(2022, 1, 'CSI', '2103', 1, '자료구조', 'Kim', Decimal('4.3'))]\n"
     ]
    }
   ],
   "source": [
    "# search registration history by student id\n",
    "student_id = '2022333333'\n",
    "result = registration_history(CONNECTION=CONNECTION, student_id=student_id)"
   ]
  },
  {
   "cell_type": "code",
   "execution_count": 12,
   "id": "b52fef99",
   "metadata": {
    "scrolled": false
   },
   "outputs": [
    {
     "name": "stdout",
     "output_type": "stream",
     "text": [
      "[(1, '2017111111'), (2, '2017111111'), (3, '2017111111'), (4, '2017111111'), (6, '2017111111'), (8, '2017111111'), (3, '2018111111'), (5, '2018111111'), (6, '2018111111'), (7, '2018111111'), (9, '2018111111'), (10, '2018111111'), (5, '2019111111'), (6, '2019111111'), (7, '2019111111'), (8, '2019111111'), (7, '2020111111'), (8, '2020111111'), (9, '2020111111'), (11, '2020111111'), (9, '2021111111'), (10, '2021111111'), (11, '2021111111'), (11, '2022111111'), (11, '2022222222'), (11, '2022333333'), (11, '2022444444'), (12, '2021111111'), (12, '2022111111')]\n"
     ]
    }
   ],
   "source": [
    "# registration course\n",
    "course_id = 12\n",
    "student_id = '2022111111'\n",
    "registration(CONNECTION=CONNECTION, course_id=course_id, student_id=student_id)"
   ]
  },
  {
   "cell_type": "code",
   "execution_count": 8,
   "id": "560ab069",
   "metadata": {
    "scrolled": true
   },
   "outputs": [
    {
     "name": "stdout",
     "output_type": "stream",
     "text": [
      "[(1, '2017111111'), (2, '2017111111'), (3, '2017111111'), (4, '2017111111'), (6, '2017111111'), (8, '2017111111'), (3, '2018111111'), (5, '2018111111'), (6, '2018111111'), (7, '2018111111'), (9, '2018111111'), (10, '2018111111'), (5, '2019111111'), (6, '2019111111'), (7, '2019111111'), (8, '2019111111'), (7, '2020111111'), (8, '2020111111'), (9, '2020111111'), (11, '2020111111'), (9, '2021111111'), (10, '2021111111'), (11, '2021111111'), (11, '2022111111'), (11, '2022222222'), (11, '2022333333'), (11, '2022444444'), (12, '2021111111'), (12, '2022111111')]\n"
     ]
    }
   ],
   "source": [
    "entire_search(CONNECTION=CONNECTION, table_name='course_registration')"
   ]
  },
  {
   "cell_type": "code",
   "execution_count": 6,
   "id": "de625956",
   "metadata": {},
   "outputs": [
    {
     "name": "stdout",
     "output_type": "stream",
     "text": [
      "Lee Eunji is not registered in 데이터베이스\n"
     ]
    }
   ],
   "source": [
    "# withdrawal course\n",
    "course_id = 12\n",
    "student_id = '2022222222'\n",
    "withdrawal_registration(CONNECTION=CONNECTION, course_id=course_id, student_id=student_id)"
   ]
  },
  {
   "cell_type": "code",
   "execution_count": 8,
   "id": "928f6375",
   "metadata": {},
   "outputs": [
    {
     "name": "stdout",
     "output_type": "stream",
     "text": [
      "[(1, 2017, 1, 'CSI', '3105', 1, '데이터베이스', '1900011110', '공D', '504', 3, 40), (2, 2017, 2, 'CSI', '2103', 1, '자료구조', '1900011111', '공D', '401', 3, 40), (3, 2018, 1, 'CSI', '2111', 1, '논리회로설계', '1900011112', '공D', '402', 3, 40), (4, 2018, 2, 'CSI', '4108', 1, '인공지능', '1900011113', '공D', '405', 3, 40), (5, 2019, 1, 'CSI', '4116', 1, '컴퓨터비전', '1900011114', '공D', '403', 3, 40), (6, 2019, 2, 'CSI', '3108', 1, '알고리즘분석', '1900011115', '공D', '504', 3, 40), (7, 2020, 1, 'CSI', '4117', 1, '테이터마이닝', '1900011116', '공D', '404', 3, 40), (8, 2020, 2, 'CSI', '4121', 1, '빅데이터', '1900011117', '공D', '407', 3, 40), (9, 2021, 1, 'CSI', '3106', 1, '소프트웨어공학', '1900011118', '공D', '406', 3, 40), (10, 2021, 2, 'CSI', '4106', 1, '컴퓨터네트워크', '1900011119', '공D', '404', 3, 40), (11, 2022, 1, 'CSI', '2103', 1, '자료구조', '1900011111', '공D', '401', 3, 40), (12, 2022, 2, 'CSI', '3105', 1, '데이터베이스', '1900011110', '공D', '408', 3, 40)]\n"
     ]
    }
   ],
   "source": [
    "# modify lecture room\n",
    "course_id = 12\n",
    "buildno = '공D'\n",
    "roomno = '408'\n",
    "\n",
    "modify_lectureroom(CONNECTION=CONNECTION, course_id=course_id, buildno=buildno, roomno=roomno)"
   ]
  },
  {
   "cell_type": "code",
   "execution_count": 9,
   "id": "14a5503a",
   "metadata": {},
   "outputs": [
    {
     "name": "stdout",
     "output_type": "stream",
     "text": [
      "delete_all.sql EXECUTRED!\n"
     ]
    }
   ],
   "source": [
    "# delete_all\n",
    "# change 'my_path' to your path where insert_data.sql file exist \n",
    "path =  '../delete_all.sql'\n",
    "\n",
    "execute_sql(CONNECTION, path)"
   ]
  },
  {
   "cell_type": "code",
   "execution_count": null,
   "id": "ea02eb4c",
   "metadata": {},
   "outputs": [],
   "source": []
  }
 ],
 "metadata": {
  "kernelspec": {
   "display_name": "Python 3 (ipykernel)",
   "language": "python",
   "name": "python3"
  },
  "language_info": {
   "codemirror_mode": {
    "name": "ipython",
    "version": 3
   },
   "file_extension": ".py",
   "mimetype": "text/x-python",
   "name": "python",
   "nbconvert_exporter": "python",
   "pygments_lexer": "ipython3",
   "version": "3.9.13"
  }
 },
 "nbformat": 4,
 "nbformat_minor": 5
}
